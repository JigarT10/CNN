{
  "nbformat": 4,
  "nbformat_minor": 0,
  "metadata": {
    "colab": {
      "provenance": [],
      "gpuType": "T4",
      "authorship_tag": "ABX9TyO22+SQbxR+6/XchuSXHbPB",
      "include_colab_link": true
    },
    "kernelspec": {
      "name": "python3",
      "display_name": "Python 3"
    },
    "language_info": {
      "name": "python"
    },
    "gpuClass": "standard"
  },
  "cells": [
    {
      "cell_type": "markdown",
      "metadata": {
        "id": "view-in-github",
        "colab_type": "text"
      },
      "source": [
        "<a href=\"https://colab.research.google.com/github/JigarT10/CNN/blob/main/Classification%20Fruits/CIFAR_10.ipynb\" target=\"_parent\"><img src=\"https://colab.research.google.com/assets/colab-badge.svg\" alt=\"Open In Colab\"/></a>"
      ]
    },
    {
      "cell_type": "code",
      "execution_count": null,
      "metadata": {
        "id": "UeejpkmxvXks"
      },
      "outputs": [],
      "source": [
        "import tensorflow as tf\n",
        "from tensorflow import keras\n",
        "from keras import datasets, layers, models\n",
        "from keras.layers import Dense,Conv2D,MaxPooling2D,Flatten,BatchNormalization,Dropout\n",
        "from keras import Sequential\n",
        "import matplotlib.pyplot as plt\n",
        "import numpy as np"
      ]
    },
    {
      "cell_type": "code",
      "source": [
        "(x_train, y_train), (x_test,y_test) = datasets.cifar10.load_data()"
      ],
      "metadata": {
        "id": "iEk540AivkzL",
        "colab": {
          "base_uri": "https://localhost:8080/"
        },
        "outputId": "495c66bb-4246-4954-a115-0204fe93f906"
      },
      "execution_count": null,
      "outputs": [
        {
          "output_type": "stream",
          "name": "stdout",
          "text": [
            "Downloading data from https://www.cs.toronto.edu/~kriz/cifar-10-python.tar.gz\n",
            "170498071/170498071 [==============================] - 4s 0us/step\n"
          ]
        }
      ]
    },
    {
      "cell_type": "code",
      "source": [
        "x_train.shape"
      ],
      "metadata": {
        "colab": {
          "base_uri": "https://localhost:8080/"
        },
        "id": "SeEFbgBQvk2f",
        "outputId": "760feef3-d514-4bf7-ecfb-4cd1bf11932e"
      },
      "execution_count": null,
      "outputs": [
        {
          "output_type": "execute_result",
          "data": {
            "text/plain": [
              "(50000, 32, 32, 3)"
            ]
          },
          "metadata": {},
          "execution_count": 3
        }
      ]
    },
    {
      "cell_type": "code",
      "source": [
        "x_test.shape"
      ],
      "metadata": {
        "colab": {
          "base_uri": "https://localhost:8080/"
        },
        "id": "5QpT7Q6vvk5n",
        "outputId": "3a2ad0d5-91b1-4c32-a46f-d39553e06b96"
      },
      "execution_count": null,
      "outputs": [
        {
          "output_type": "execute_result",
          "data": {
            "text/plain": [
              "(10000, 32, 32, 3)"
            ]
          },
          "metadata": {},
          "execution_count": 4
        }
      ]
    },
    {
      "cell_type": "code",
      "source": [
        "y_train.shape"
      ],
      "metadata": {
        "colab": {
          "base_uri": "https://localhost:8080/"
        },
        "id": "KtWeptqEvk7_",
        "outputId": "cf7c7cb8-11f8-4642-ccef-1af8a7ccf840"
      },
      "execution_count": null,
      "outputs": [
        {
          "output_type": "execute_result",
          "data": {
            "text/plain": [
              "(50000, 1)"
            ]
          },
          "metadata": {},
          "execution_count": 5
        }
      ]
    },
    {
      "cell_type": "code",
      "source": [
        "y_test.shape"
      ],
      "metadata": {
        "colab": {
          "base_uri": "https://localhost:8080/"
        },
        "id": "Yn2JH29qvk--",
        "outputId": "2c22636a-9746-4d6c-e9a6-29f4b7a00c46"
      },
      "execution_count": null,
      "outputs": [
        {
          "output_type": "execute_result",
          "data": {
            "text/plain": [
              "(10000, 1)"
            ]
          },
          "metadata": {},
          "execution_count": 6
        }
      ]
    },
    {
      "cell_type": "code",
      "source": [
        "y_train[:5]"
      ],
      "metadata": {
        "colab": {
          "base_uri": "https://localhost:8080/"
        },
        "id": "7EzfjfkJwHdp",
        "outputId": "c11fc630-c3f3-44a0-c296-3f3abf48a995"
      },
      "execution_count": null,
      "outputs": [
        {
          "output_type": "execute_result",
          "data": {
            "text/plain": [
              "array([[6],\n",
              "       [9],\n",
              "       [9],\n",
              "       [4],\n",
              "       [1]], dtype=uint8)"
            ]
          },
          "metadata": {},
          "execution_count": 7
        }
      ]
    },
    {
      "cell_type": "code",
      "source": [
        "classes = [\"airplane\",\"automobile\",\"bird\",\"cat\",\"deer\",\"dog\",\"frog\",\"horse\",\"ship\",\"truck\"]"
      ],
      "metadata": {
        "id": "JBZM1GBCwHgY"
      },
      "execution_count": null,
      "outputs": []
    },
    {
      "cell_type": "code",
      "source": [
        "# Step 3: Preprocess the data\n",
        "num_classes = 10\n",
        "input_shape = (32, 32, 3)"
      ],
      "metadata": {
        "id": "dC5OdZtUx9qC"
      },
      "execution_count": null,
      "outputs": []
    },
    {
      "cell_type": "code",
      "source": [
        "x_train = x_train / 255.0\n",
        "x_test = x_test / 255.0"
      ],
      "metadata": {
        "id": "TrWdNUmRwHjV"
      },
      "execution_count": null,
      "outputs": []
    },
    {
      "cell_type": "code",
      "source": [
        "# Convert class labels to one-hot encoded vectors\n",
        "y_train = keras.utils.to_categorical(y_train, num_classes)\n",
        "y_test = keras.utils.to_categorical(y_test, num_classes)"
      ],
      "metadata": {
        "id": "SXU2ItPqyHcS"
      },
      "execution_count": null,
      "outputs": []
    },
    {
      "cell_type": "code",
      "source": [
        "# Split the data into training and validation sets\n",
        "validation_split = 0.1\n",
        "split_index = int(x_train.shape[0] * (1 - validation_split))\n",
        "\n",
        "X_train, x_val = x_train[:split_index], x_train[split_index:]\n",
        "y_train, y_val = y_train[:split_index], y_train[split_index:]"
      ],
      "metadata": {
        "id": "Vb6JPv9ryHfe"
      },
      "execution_count": null,
      "outputs": []
    },
    {
      "cell_type": "code",
      "source": [
        "# create CNN model\n",
        "\n",
        "model = Sequential()\n",
        "\n",
        "model.add(Conv2D(32,kernel_size=(3,3),padding='valid',activation='relu',input_shape=input_shape))\n",
        "model.add(BatchNormalization())\n",
        "model.add(MaxPooling2D(pool_size=(2,2),strides=2,padding='valid'))\n",
        "\n",
        "model.add(Conv2D(64,kernel_size=(3,3),padding='valid',activation='relu'))\n",
        "model.add(BatchNormalization())\n",
        "model.add(MaxPooling2D(pool_size=(2,2),strides=2,padding='valid'))\n",
        "\n",
        "model.add(Conv2D(128,kernel_size=(3,3),padding='valid',activation='relu'))\n",
        "model.add(BatchNormalization())\n",
        "model.add(MaxPooling2D(pool_size=(2,2),strides=2,padding='valid'))\n",
        "\n",
        "model.add(Flatten())\n",
        "\n",
        "model.add(Dense(128,activation='relu'))\n",
        "model.add(Dropout(0.3))\n",
        "model.add(Dense(64,activation='relu'))\n",
        "model.add(Dropout(0.3))\n",
        "model.add(Dense(10,activation='softmax')) # using softmax activation for multiclass classification\n",
        "\n",
        "model.compile(optimizer='adam', loss='categorical_crossentropy', metrics=['accuracy']) # using categorical_crossentropy for multiclass classification\n",
        "\n",
        "history = model.fit(\n",
        "    X_train,\n",
        "    y_train,\n",
        "    batch_size=64,\n",
        "    epochs=5,\n",
        "    validation_data=(x_val, y_val)\n",
        ")"
      ],
      "metadata": {
        "colab": {
          "base_uri": "https://localhost:8080/"
        },
        "id": "6eSGkeF5wHmU",
        "outputId": "9a28c4a1-bb52-4659-e1fa-014b9881aa70"
      },
      "execution_count": null,
      "outputs": [
        {
          "output_type": "stream",
          "name": "stdout",
          "text": [
            "Epoch 1/5\n",
            "704/704 [==============================] - 86s 117ms/step - loss: 1.6339 - accuracy: 0.4104 - val_loss: 1.5005 - val_accuracy: 0.4550\n",
            "Epoch 2/5\n",
            "704/704 [==============================] - 86s 122ms/step - loss: 1.2403 - accuracy: 0.5642 - val_loss: 1.1621 - val_accuracy: 0.5930\n",
            "Epoch 3/5\n",
            "704/704 [==============================] - 82s 117ms/step - loss: 1.0674 - accuracy: 0.6315 - val_loss: 1.0390 - val_accuracy: 0.6286\n",
            "Epoch 4/5\n",
            "704/704 [==============================] - 85s 121ms/step - loss: 0.9496 - accuracy: 0.6763 - val_loss: 1.3643 - val_accuracy: 0.5556\n",
            "Epoch 5/5\n",
            "704/704 [==============================] - 82s 117ms/step - loss: 0.8483 - accuracy: 0.7121 - val_loss: 0.8312 - val_accuracy: 0.7168\n"
          ]
        }
      ]
    },
    {
      "cell_type": "code",
      "source": [
        "model.compile(optimizer='adam', loss='categorical_crossentropy', metrics=['accuracy']) # using categorical_crossentropy for multiclass classification\n"
      ],
      "metadata": {
        "id": "hO0YUs9ZiptU"
      },
      "execution_count": null,
      "outputs": []
    },
    {
      "cell_type": "code",
      "source": [
        "history = model.fit(\n",
        "    X_train,\n",
        "    y_train,\n",
        "    batch_size=512,\n",
        "    epochs=10,\n",
        "    validation_data=(x_val, y_val)\n",
        ")"
      ],
      "metadata": {
        "colab": {
          "base_uri": "https://localhost:8080/"
        },
        "id": "mG6wWYsqwHpR",
        "outputId": "33181aca-4b14-4389-8a61-2d9883e2cfdb"
      },
      "execution_count": null,
      "outputs": [
        {
          "output_type": "stream",
          "name": "stdout",
          "text": [
            "Epoch 1/10\n",
            "88/88 [==============================] - 87s 985ms/step - loss: 0.2061 - accuracy: 0.9288 - val_loss: 1.1783 - val_accuracy: 0.7458\n",
            "Epoch 2/10\n",
            "88/88 [==============================] - 93s 1s/step - loss: 0.1944 - accuracy: 0.9322 - val_loss: 1.2665 - val_accuracy: 0.7430\n",
            "Epoch 3/10\n",
            "88/88 [==============================] - 89s 1s/step - loss: 0.1976 - accuracy: 0.9318 - val_loss: 1.2692 - val_accuracy: 0.7498\n",
            "Epoch 4/10\n",
            "88/88 [==============================] - 86s 976ms/step - loss: 0.1898 - accuracy: 0.9352 - val_loss: 1.2655 - val_accuracy: 0.7422\n",
            "Epoch 5/10\n",
            "88/88 [==============================] - 88s 997ms/step - loss: 0.1719 - accuracy: 0.9415 - val_loss: 1.3372 - val_accuracy: 0.7384\n",
            "Epoch 6/10\n",
            "88/88 [==============================] - 87s 986ms/step - loss: 0.1656 - accuracy: 0.9436 - val_loss: 1.3439 - val_accuracy: 0.7316\n",
            "Epoch 7/10\n",
            "88/88 [==============================] - 85s 972ms/step - loss: 0.1550 - accuracy: 0.9464 - val_loss: 1.3549 - val_accuracy: 0.7424\n",
            "Epoch 8/10\n",
            "88/88 [==============================] - 90s 1s/step - loss: 0.1427 - accuracy: 0.9509 - val_loss: 1.3424 - val_accuracy: 0.7512\n",
            "Epoch 9/10\n",
            "88/88 [==============================] - 90s 1s/step - loss: 0.1415 - accuracy: 0.9527 - val_loss: 1.4887 - val_accuracy: 0.7316\n",
            "Epoch 10/10\n",
            "88/88 [==============================] - 88s 1s/step - loss: 0.1414 - accuracy: 0.9520 - val_loss: 1.3931 - val_accuracy: 0.7504\n"
          ]
        }
      ]
    },
    {
      "cell_type": "code",
      "source": [
        "# Save the model\n",
        "# model.save('/content/cifar10_model.h5')\n",
        "\n",
        "# Load the model\n",
        "# model = keras.models.load_model('/content/cifar10_model.h5')"
      ],
      "metadata": {
        "id": "cVfRHB5c8PWY"
      },
      "execution_count": null,
      "outputs": []
    },
    {
      "cell_type": "code",
      "source": [
        "# # Mount Google Drive\n",
        "# from google.colab import drive\n",
        "# drive.mount('/content/drive')\n",
        "\n",
        "# # Save the model and data to Google Drive\n",
        "# model.save('/content/drive/MyDrive/cifar10_model.h5')\n",
        "# np.save('/content/drive/MyDrive/x_train.npy', x_train)\n",
        "# np.save('/content/drive/MyDrive/y_train.npy', y_train)\n",
        "# np.save('/content/drive/MyDrive/x_test.npy', x_test)\n",
        "# np.save('/content/drive/MyDrive/y_test.npy', y_test)\n",
        "# np.save('/content/drive/MyDrive/x_val.npy', x_val)\n",
        "# np.save('/content/drive/MyDrive/y_val.npy', y_val)"
      ],
      "metadata": {
        "id": "QWNBqSoVvlCC"
      },
      "execution_count": null,
      "outputs": []
    }
  ]
}